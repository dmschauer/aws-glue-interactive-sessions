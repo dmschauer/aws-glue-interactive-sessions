{
 "cells": [
  {
   "cell_type": "code",
   "execution_count": 1,
   "id": "b9406b85",
   "metadata": {},
   "outputs": [
    {
     "name": "stdout",
     "output_type": "stream",
     "text": [
      "Previous profile: glue-dev\n",
      "Setting new profile to: glue-dev\n",
      "Previous region: us-east-1\n",
      "Setting new region to: us-east-1\n",
      "Reauthenticating Glue client with new region: us-east-1\n",
      "IAM role has been set to arn:aws:iam::<your account id>:role/<your role name>. Reauthenticating.\n",
      "Authenticating with profile=glue-dev\n",
      "glue_role_arn defined by user: arn:aws:iam::<your account id>:role/<your role name>\n",
      "Authentication done.\n",
      "Region is set to: us-east-1\n",
      "Previous worker type: G.1X\n",
      "Setting new worker type to: G.1X\n",
      "Previous number of workers: 5\n",
      "Setting new number of workers to: 2\n",
      "Current idle_timeout is 2880 minutes.\n",
      "idle_timeout has been set to 5 minutes.\n"
     ]
    }
   ],
   "source": [
    "%profile glue-dev     \n",
    "# The profile we set up in .aws\\credentials\n",
    "\n",
    "%region us-east-1     \n",
    "# We already configured this in .aws\\credentials but just to make sure\n",
    "\n",
    "%worker_type G.1X     \n",
    "# G.1X costs half as much as G.2X (surprising, right?)\n",
    "\n",
    "%number_of_workers 2\n",
    "# 2 is the minimum of workers allowed\n",
    "# The default is 5 workers. We're already saving 60% of cost here.\n",
    "\n",
    "%idle_timeout 5\n",
    "# The default is 2880 minutes which is 48 hours. \n",
    "# I doubt that most people want to run their on demand sessions for that long.\n",
    "# So here we set 5 minutes\n",
    "\n",
    "# I found that when you're using the 0.32 version of the aws-glue-sessions library \n",
    "# you could also go with the even cheaper G.025X worker type\n",
    "# but then you will need a minimum of 2 workers. This would still be cheaper though."
   ]
  },
  {
   "cell_type": "code",
   "execution_count": 2,
   "id": "ac961f51",
   "metadata": {},
   "outputs": [
    {
     "name": "stdout",
     "output_type": "stream",
     "text": [
      "There are no sessions to list.\n",
      "There is no current session.\n"
     ]
    }
   ],
   "source": [
    "%list_sessions\n",
    "%session_id"
   ]
  },
  {
   "cell_type": "code",
   "execution_count": 3,
   "id": "0f850a7b",
   "metadata": {},
   "outputs": [
    {
     "name": "stdout",
     "output_type": "stream",
     "text": [
      "Authenticating with profile=glue-dev\n",
      "glue_role_arn defined by user: arn:aws:iam::<your account id>:role/<your role name>\n",
      "Trying to create a Glue session for the kernel.\n",
      "Worker Type: G.1X\n",
      "Number of Workers: 2\n",
      "Session ID: ebd7a621-94c9-4819-a2b1-a308e5cc83f6\n",
      "Job Type: glueetl\n",
      "Applying the following default arguments:\n",
      "--glue_kernel_version 0.37.0\n",
      "--enable-glue-datacatalog true\n",
      "Waiting for session ebd7a621-94c9-4819-a2b1-a308e5cc83f6 to get into ready status...\n",
      "Session ebd7a621-94c9-4819-a2b1-a308e5cc83f6 has been created.\n",
      "Count: 43\n",
      "root\n",
      "|-- product_name: string\n",
      "|-- price: double\n",
      "|-- category: string\n",
      "|-- amount: int\n",
      "|-- order_position: int\n",
      "|-- first_name: string\n",
      "|-- last_name: string\n",
      "|-- address: string\n",
      "|-- email: string\n",
      "|-- user_agent: string\n",
      "|-- currency: string\n",
      "|-- order_id: string\n",
      "|-- items: array\n",
      "|    |-- element: struct\n",
      "|    |    |-- product_name: string\n",
      "|    |    |-- price: double\n",
      "|    |    |-- category: string\n",
      "|    |    |-- amount: int\n",
      "|    |    |-- order_position: int\n"
     ]
    }
   ],
   "source": [
    "import sys\n",
    "from awsglue.transforms import *\n",
    "from awsglue.utils import getResolvedOptions\n",
    "from pyspark.context import SparkContext\n",
    "from awsglue.context import GlueContext\n",
    "from awsglue.job import Job\n",
    "\n",
    "glueContext = GlueContext(SparkContext.getOrCreate())\n",
    "\n",
    "test_dynamicframe = glueContext.create_dynamic_frame.from_options(\n",
    "    's3',\n",
    "    {'paths': ['s3://<your bucket name>/<perhaps with a subdirectory>']},  # your s3 bucket name\n",
    "    'json')\n",
    "print(\"Count:\",test_dynamicframe.count())\n",
    "test_dynamicframe.printSchema()"
   ]
  },
  {
   "cell_type": "code",
   "execution_count": 4,
   "id": "3559dafa",
   "metadata": {},
   "outputs": [
    {
     "name": "stdout",
     "output_type": "stream",
     "text": [
      "The first 1 sessions are:\n",
      "ebd7a621-94c9-4819-a2b1-a308e5cc83f6\n",
      "Current active Session ID: ebd7a621-94c9-4819-a2b1-a308e5cc83f6\n",
      "Session ID: ebd7a621-94c9-4819-a2b1-a308e5cc83f6\n",
      "Status: READY\n",
      "Role: arn:aws:iam::<your account id>:role/<your role name>\n",
      "CreatedOn: 2022-12-20 01:13:00.313000+01:00\n",
      "GlueVersion: 2.0\n",
      "Worker Type: G.1X\n",
      "Number of Workers: 2\n",
      "Region: us-east-1\n",
      "Applying the following default arguments:\n",
      "--glue_kernel_version 0.37.0\n",
      "--enable-glue-datacatalog true\n",
      "Arguments Passed: ['--glue_kernel_version: 0.37.0', '--enable-glue-datacatalog: true']\n"
     ]
    }
   ],
   "source": [
    "%list_sessions\n",
    "%session_id\n",
    "%status"
   ]
  },
  {
   "cell_type": "code",
   "execution_count": 5,
   "id": "da17ac93",
   "metadata": {},
   "outputs": [
    {
     "name": "stdout",
     "output_type": "stream",
     "text": [
      "Stopping session: ebd7a621-94c9-4819-a2b1-a308e5cc83f6\n",
      "Stopped session.\n"
     ]
    }
   ],
   "source": [
    "%stop_session"
   ]
  },
  {
   "cell_type": "code",
   "execution_count": 6,
   "id": "6c5cc2c9",
   "metadata": {},
   "outputs": [
    {
     "name": "stdout",
     "output_type": "stream",
     "text": [
      "Authenticating with profile=glue-dev\n",
      "glue_role_arn defined by user: arn:aws:iam::<your account id>:role/<your role name>\n",
      "The first 1 sessions are:\n",
      "ebd7a621-94c9-4819-a2b1-a308e5cc83f6\n",
      "There is no current session.\n",
      "There is no current session.\n"
     ]
    }
   ],
   "source": [
    "%list_sessions\n",
    "%session_id\n",
    "%status"
   ]
  },
  {
   "cell_type": "code",
   "execution_count": null,
   "id": "602d794f",
   "metadata": {},
   "outputs": [],
   "source": []
  }
 ],
 "metadata": {
  "kernelspec": {
   "display_name": "Glue PySpark",
   "language": "python",
   "name": "glue_pyspark"
  },
  "language_info": {
   "codemirror_mode": {
    "name": "python",
    "version": 3
   },
   "file_extension": ".py",
   "mimetype": "text/x-python",
   "name": "Python_Glue_Session",
   "pygments_lexer": "python3"
  }
 },
 "nbformat": 4,
 "nbformat_minor": 5
}
